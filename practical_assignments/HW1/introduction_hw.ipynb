{
 "cells": [
  {
   "cell_type": "markdown",
   "metadata": {},
   "source": [
    "<div align=\"center\">\n",
    "    <img src=\"https://upload.wikimedia.org/wikipedia/commons/a/a3/University_of_Isfahan-Logo.png\" width=\"100\" height=\"100\">\n",
    "</div>\n",
    "\n",
    "<div dir=\"rtl\" align=\"center\">\n",
    "  <h1> </h1>\n",
    "  <h4> Isfahan University - Computer Science </h4>\n",
    "  <h4 style=\"color:#3399FF\"> Machine Learning </h4>\n",
    "  <hr>\n",
    "  <h2 style=\"color:#006633\"> <strong>HW1: introduction to libraries: numpy, pandas and matplotlib</strong> </h2>\n",
    "  <hr>\n",
    "</div>\n",
    "\n",
    "<h4> 1402/12/10 to <u style=\"color:#FF6666\">1402/12/17 - 23:00</u> </h4>\n",
    "<h3> Your Student ID:  </h3>\n",
    "<h3> Your Name:  </h3>\n",
    "<hr>"
   ]
  },
  {
   "cell_type": "markdown",
   "metadata": {},
   "source": [
    "### import libraries"
   ]
  },
  {
   "cell_type": "code",
   "execution_count": 1,
   "metadata": {},
   "outputs": [],
   "source": [
    "import numpy as np\n",
    "import pandas as pd\n",
    "import seaborn as sns\n",
    "\n",
    "from matplotlib import pyplot as plt\n",
    "from sklearn.datasets import make_classification"
   ]
  },
  {
   "cell_type": "markdown",
   "metadata": {},
   "source": [
    "### Questions"
   ]
  },
  {
   "cell_type": "markdown",
   "metadata": {},
   "source": [
    "<strong style=\"color:red \"> Q1. </strong> generate random dataset from `make_classification` function. Consider the following points:\n",
    "- number of samples: 10000\n",
    "- number of features: 6\n",
    "- number of informative features: 3\n",
    "- number of classes: 3\n",
    "- random state: your `student_id`"
   ]
  },
  {
   "cell_type": "code",
   "execution_count": null,
   "metadata": {},
   "outputs": [],
   "source": []
  },
  {
   "cell_type": "markdown",
   "metadata": {},
   "source": [
    "<strong style=\"color:red \"> Q2. </strong> convert generated random dataset to `pd.DataFrame`. <ln>\n",
    "\n",
    "**(hint: put data and target separately to the `pd.DataFrame`)**"
   ]
  },
  {
   "cell_type": "code",
   "execution_count": null,
   "metadata": {},
   "outputs": [],
   "source": []
  },
  {
   "cell_type": "markdown",
   "metadata": {},
   "source": [
    "<strong style=\"color:red \"> Q3. </strong> rename columns from `0,1, ..., 5` to `f1, f2, ..., f6` and save it.\n",
    "\n",
    "**(hint: for saving, you can use `inplace` argument)**"
   ]
  },
  {
   "cell_type": "code",
   "execution_count": null,
   "metadata": {},
   "outputs": [],
   "source": []
  },
  {
   "cell_type": "markdown",
   "metadata": {},
   "source": [
    "<strong style=\"color:red \"> Q4. </strong> show the first **10** row."
   ]
  },
  {
   "cell_type": "code",
   "execution_count": null,
   "metadata": {},
   "outputs": [],
   "source": []
  },
  {
   "cell_type": "markdown",
   "metadata": {},
   "source": [
    "<strong style=\"color:red \"> Q5. </strong> show the last **10** row."
   ]
  },
  {
   "cell_type": "code",
   "execution_count": null,
   "metadata": {},
   "outputs": [],
   "source": []
  },
  {
   "cell_type": "markdown",
   "metadata": {},
   "source": [
    "<strong style=\"color:red \"> Q6. </strong> show the 100th to 110th row.\n",
    "\n",
    "**(hint: you can use `loc` or `iloc`.)**"
   ]
  },
  {
   "cell_type": "code",
   "execution_count": null,
   "metadata": {},
   "outputs": [],
   "source": []
  },
  {
   "cell_type": "markdown",
   "metadata": {},
   "source": [
    "<strong style=\"color:red \"> Q7. </strong> show the 100th to 110th row with `f1` and `f2` columns."
   ]
  },
  {
   "cell_type": "code",
   "execution_count": null,
   "metadata": {},
   "outputs": [],
   "source": []
  },
  {
   "cell_type": "markdown",
   "metadata": {},
   "source": [
    "<strong style=\"color:red \"> Q8. </strong> show the even rows."
   ]
  },
  {
   "cell_type": "code",
   "execution_count": null,
   "metadata": {},
   "outputs": [],
   "source": []
  },
  {
   "cell_type": "markdown",
   "metadata": {},
   "source": [
    "<strong style=\"color:red \"> Q9. </strong> check type of columns."
   ]
  },
  {
   "cell_type": "code",
   "execution_count": null,
   "metadata": {},
   "outputs": [],
   "source": []
  },
  {
   "cell_type": "markdown",
   "metadata": {},
   "source": [
    "<strong style=\"color:red \"> Q10. </strong> get `mean` of features."
   ]
  },
  {
   "cell_type": "code",
   "execution_count": null,
   "metadata": {},
   "outputs": [],
   "source": []
  },
  {
   "cell_type": "markdown",
   "metadata": {},
   "source": [
    "<strong style=\"color:red \"> Q11. </strong> get `max` of `mean` of features."
   ]
  },
  {
   "cell_type": "code",
   "execution_count": null,
   "metadata": {},
   "outputs": [],
   "source": []
  },
  {
   "cell_type": "markdown",
   "metadata": {},
   "source": [
    "<strong style=\"color:red \"> Q12. </strong> get `mean` of features from 100th to 110th row."
   ]
  },
  {
   "cell_type": "code",
   "execution_count": null,
   "metadata": {},
   "outputs": [],
   "source": []
  },
  {
   "cell_type": "markdown",
   "metadata": {},
   "source": [
    "<strong style=\"color:red \"> Q13. </strong> get `std` of features."
   ]
  },
  {
   "cell_type": "code",
   "execution_count": null,
   "metadata": {},
   "outputs": [],
   "source": []
  },
  {
   "cell_type": "markdown",
   "metadata": {},
   "source": [
    "<strong style=\"color:red \"> Q14. </strong> get square (power of 2) of `std` of features."
   ]
  },
  {
   "cell_type": "code",
   "execution_count": null,
   "metadata": {},
   "outputs": [],
   "source": []
  },
  {
   "cell_type": "markdown",
   "metadata": {},
   "source": [
    "<strong style=\"color:red \"> Q15. </strong> count the values of each class."
   ]
  },
  {
   "cell_type": "code",
   "execution_count": null,
   "metadata": {},
   "outputs": [],
   "source": []
  },
  {
   "cell_type": "markdown",
   "metadata": {},
   "source": [
    "<strong style=\"color:red \"> Q16. </strong> show rows where the `f1 > 1`.\n",
    "\n",
    "**(hint: you can use `query` function.)**"
   ]
  },
  {
   "cell_type": "code",
   "execution_count": null,
   "metadata": {},
   "outputs": [],
   "source": []
  },
  {
   "cell_type": "markdown",
   "metadata": {},
   "source": [
    "<strong style=\"color:red \"> Q17. </strong> show rows where the `f2 > 0` and `target == 1`."
   ]
  },
  {
   "cell_type": "code",
   "execution_count": null,
   "metadata": {},
   "outputs": [],
   "source": []
  },
  {
   "cell_type": "markdown",
   "metadata": {},
   "source": [
    "<strong style=\"color:red \"> Q18. </strong> sum the `f1` and `f3` feature together and put it in a new column called `f7`."
   ]
  },
  {
   "cell_type": "code",
   "execution_count": null,
   "metadata": {},
   "outputs": [],
   "source": []
  },
  {
   "cell_type": "markdown",
   "metadata": {},
   "source": [
    "<strong style=\"color:red \"> Q19. </strong> subtract the `f1` from its `mean` and then divide it by its `std`."
   ]
  },
  {
   "cell_type": "code",
   "execution_count": null,
   "metadata": {},
   "outputs": [],
   "source": []
  },
  {
   "cell_type": "markdown",
   "metadata": {},
   "source": [
    "<strong style=\"color:red \"> Q20. </strong> plot `f1` into `one` axes, with `figsize=(10, 3)`."
   ]
  },
  {
   "cell_type": "code",
   "execution_count": null,
   "metadata": {},
   "outputs": [],
   "source": []
  },
  {
   "cell_type": "markdown",
   "metadata": {},
   "source": [
    "<strong style=\"color:red \"> Q21. </strong> plot `f1` into `one` axes, with:\n",
    "- set figsize to (10, 3)\n",
    "- set title to \"f1's values\"\n",
    "- set xlabel to \"samples\"\n",
    "- set ylabel to \"f1\""
   ]
  },
  {
   "cell_type": "code",
   "execution_count": null,
   "metadata": {},
   "outputs": [],
   "source": []
  },
  {
   "cell_type": "markdown",
   "metadata": {},
   "source": [
    "<strong style=\"color:red \"> Q22. </strong> plot **first 100th row** of`f1` into `one` axes, with:\n",
    "- set figsize to (10, 3)\n",
    "- set title to \"f1's values\"\n",
    "- set xlabel to \"samples\"\n",
    "- set ylabel to \"f1\"\n",
    "- **set legend to \"first 100th of f1\"**"
   ]
  },
  {
   "cell_type": "code",
   "execution_count": null,
   "metadata": {},
   "outputs": [],
   "source": []
  },
  {
   "cell_type": "markdown",
   "metadata": {},
   "source": [
    "<strong style=\"color:red \"> Q23. </strong> plot **first 100th row** of `f1` into `one` axes and also plot `mean` of the first 100th row of the `f1` as a horizontal line, with:\n",
    "- set figsize to (10, 3)\n",
    "- set title to \"f1's values\"\n",
    "- set xlabel to \"samples\"\n",
    "- set ylabel to \"f1\"\n",
    "- set legend of first 100th of `f1` to \"first 100th of f1\"\n",
    "- **set legend of `mean` of first 100th of `f1` to \"mean\"**"
   ]
  },
  {
   "cell_type": "code",
   "execution_count": null,
   "metadata": {},
   "outputs": [],
   "source": []
  },
  {
   "cell_type": "markdown",
   "metadata": {},
   "source": [
    "<strong style=\"color:red \"> Q24. </strong> plot scatter of `f2` and `f3`, with:\n",
    "- set figsize to (4, 4)\n",
    "- set title to \"scatter of f2 and f3\"\n",
    "- set xlabel to \"f2\"\n",
    "- set ylabel to \"f3\""
   ]
  },
  {
   "cell_type": "code",
   "execution_count": null,
   "metadata": {},
   "outputs": [],
   "source": []
  },
  {
   "cell_type": "markdown",
   "metadata": {},
   "source": [
    "<strong style=\"color:red \"> Q25. </strong> plot scatter of `f2` and `f3` along with their targets, with:\n",
    "- set figsize to (4, 4)\n",
    "- set title to \"scatter of f2 and f3\"\n",
    "- set xlabel to \"f2\"\n",
    "- set ylabel to \"f3\"\n",
    "- **set legend of each classes to `0, 1 and 2`**\n",
    "\n",
    "**(hint: to specify the target color of each instance, you can use the `c` argument.)**"
   ]
  },
  {
   "cell_type": "code",
   "execution_count": null,
   "metadata": {},
   "outputs": [],
   "source": []
  },
  {
   "cell_type": "markdown",
   "metadata": {},
   "source": [
    "<strong style=\"color:red \"> Q26. </strong> plot heatmap of correlation, with:\n",
    "- set figsize to (7, 7)\n",
    "- set annotation to True\n",
    "- set linewidth to 2\n",
    "- set cmap to \"Blues\"\n",
    "\n",
    "**(hint: to plot of heatmap of correlation, you can look for this function in the `seaborn` library.)**"
   ]
  },
  {
   "cell_type": "code",
   "execution_count": null,
   "metadata": {},
   "outputs": [],
   "source": []
  },
  {
   "cell_type": "markdown",
   "metadata": {},
   "source": [
    "<strong style=\"color:red \"> Q27. </strong> plot histogram of `f4`, with:\n",
    "- set figsize to (6, 6)\n",
    "- set kde to True\n",
    "\n",
    "**(hint: to plot of histogram, you can use `sns.histplot()` function.)**"
   ]
  },
  {
   "cell_type": "code",
   "execution_count": null,
   "metadata": {},
   "outputs": [],
   "source": []
  },
  {
   "cell_type": "markdown",
   "metadata": {},
   "source": [
    "<strong style=\"color:red \"> Q28. </strong> plot histogram of `f4` and `f2` into `one` axes, with:\n",
    "- set figsize to (6, 6)\n",
    "- set kde to True\n",
    "- set multiple to \"stack\""
   ]
  },
  {
   "cell_type": "code",
   "execution_count": null,
   "metadata": {},
   "outputs": [],
   "source": []
  },
  {
   "cell_type": "markdown",
   "metadata": {},
   "source": [
    "<strong style=\"color:red \"> Q29. </strong> plot histogram of all features and all of their pair scatter, with:\n",
    "- set hue to \"target\"\n",
    "\n",
    "**(hint: you can look for this function in the `seaborn` library or implement it yourself)**"
   ]
  },
  {
   "cell_type": "code",
   "execution_count": null,
   "metadata": {},
   "outputs": [],
   "source": []
  }
 ],
 "metadata": {
  "kernelspec": {
   "display_name": "Python 3 (ipykernel)",
   "language": "python",
   "name": "python3"
  },
  "language_info": {
   "codemirror_mode": {
    "name": "ipython",
    "version": 3
   },
   "file_extension": ".py",
   "mimetype": "text/x-python",
   "name": "python",
   "nbconvert_exporter": "python",
   "pygments_lexer": "ipython3",
   "version": "3.11.6"
  }
 },
 "nbformat": 4,
 "nbformat_minor": 4
}
