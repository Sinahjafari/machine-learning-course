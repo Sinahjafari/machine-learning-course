{
  "cells": [
    {
      "cell_type": "markdown",
      "metadata": {
        "id": "zHoeOvWiSX3U"
      },
      "source": [
        "<div align=\"center\">\n",
        "    <img src=\"https://upload.wikimedia.org/wikipedia/commons/a/a3/University_of_Isfahan-Logo.png\" width=\"100\" height=\"100\">\n",
        "</div>\n",
        "\n",
        "<div dir=\"rtl\" align=\"center\">\n",
        "  <h1> </h1>\n",
        "  <h4> Isfahan University - Computer Science </h4>\n",
        "  <h4 style=\"color:#3399FF\"> Machine Learning </h4>\n",
        "  <h5> March, 2024 </h5>\n",
        "  <hr>\n",
        "  <h2 style=\"color:#006633\"> <strong>HW3: Regression</strong> </h2>\n",
        "  <hr>\n",
        "</div>\n",
        "\n",
        "<h3> Your Student ID:  </h3>\n",
        "<h3> Your Name:  </h3>\n",
        "<hr>"
      ]
    },
    {
      "cell_type": "markdown",
      "metadata": {
        "id": "LXq0er96SX3o"
      },
      "source": [
        "### Questions"
      ]
    },
    {
      "cell_type": "markdown",
      "metadata": {
        "id": "jPUlWxeWSX3p"
      },
      "source": [
        "<strong style=\"color:red \"> Q1. </strong> Predicting the popularity of a song on Spotify based on audio characteristics such as length, tempo, and danceability and interpret the assessment model and results. To implement this model, you can use programming languages such as Python and libraries such as numpy, pandas and scikit-learn, and the dataset is included in the attached link. <a href=\"https://www.kaggle.com/datasets/maharshipandya/-spotify-tracks-dataset\"> [here] </a>\n",
        "\n",
        "**Note 1:  Select which features are used as predictor variables. For example, we might want to see how \"song length\", \"tempo\", and \"danceability\" can predict a song's popularity.**\n",
        "\n",
        "**Note 2:  target is `popularity` column.**"
      ]
    },
    {
      "cell_type": "code",
      "execution_count": null,
      "metadata": {
        "id": "XxlgSYxySX3r"
      },
      "outputs": [],
      "source": []
    },
    {
      "cell_type": "markdown",
      "metadata": {},
      "source": [
        "<strong style=\"color:red \"> Q2. </strong> In Q1, what can we do to improve the model? Compare the results with Q1?"
      ]
    },
    {
      "cell_type": "code",
      "execution_count": null,
      "metadata": {
        "id": "PWJDFeCJSX3y"
      },
      "outputs": [],
      "source": []
    }
  ],
  "metadata": {
    "colab": {
      "provenance": []
    },
    "kernelspec": {
      "display_name": "Python 3 (ipykernel)",
      "language": "python",
      "name": "python3"
    },
    "language_info": {
      "codemirror_mode": {
        "name": "ipython",
        "version": 3
      },
      "file_extension": ".py",
      "mimetype": "text/x-python",
      "name": "python",
      "nbconvert_exporter": "python",
      "pygments_lexer": "ipython3",
      "version": "3.11.6"
    }
  },
  "nbformat": 4,
  "nbformat_minor": 0
}
