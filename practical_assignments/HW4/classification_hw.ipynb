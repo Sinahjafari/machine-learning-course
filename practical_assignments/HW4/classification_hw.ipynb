{
 "cells": [
  {
   "cell_type": "markdown",
   "metadata": {},
   "source": [
    "<div align=\"center\">\n",
    "    <img src=\"https://upload.wikimedia.org/wikipedia/commons/a/a3/University_of_Isfahan-Logo.png\" width=\"100\" height=\"100\">\n",
    "</div>\n",
    "\n",
    "<div dir=\"rtl\" align=\"center\">\n",
    "  <h1> </h1>\n",
    "  <h4> Isfahan University - Computer Science </h4>\n",
    "  <h4 style=\"color:#3399FF\"> Machine Learning </h4>\n",
    "  <h5> March, 2024 </h5>\n",
    "  <hr>\n",
    "  <h2 style=\"color:#006633\"> <strong>HW4: Classification</strong> </h2>\n",
    "  <hr>\n",
    "</div>\n",
    "\n",
    "<h3> Your Student ID:  </h3>\n",
    "<h3> Your Name:  </h3>\n",
    "<hr>"
   ]
  },
  {
   "cell_type": "markdown",
   "metadata": {},
   "source": [
    "### Questions"
   ]
  },
  {
   "cell_type": "markdown",
   "metadata": {},
   "source": [
    "<strong style=\"color:red \"> Q1. </strong> Based on user data and their interaction with ads, predict whether a user will buy a product after clicking on an ad. Using the preprocessed data, build and train a logistic regression model to predict the likelihood of purchase based on the predictor variables and use the AUC-ROC evaluation criterion. Interpret the coefficients of the logistic regression model to gain insights into the relative importance of each of the predictor variables, and information about the dataset is available in the <a href=\"https://www.kaggle.com/datasets/soumyakushwaha/advertising\" > [link] </a>.\n",
    "\n",
    "**Note 1:  target is `Clicked on Ad` column.**"
   ]
  },
  {
   "cell_type": "code",
   "execution_count": null,
   "metadata": {
    "vscode": {
     "languageId": "plaintext"
    }
   },
   "outputs": [],
   "source": []
  },
  {
   "cell_type": "markdown",
   "metadata": {},
   "source": [
    "<strong style=\"color:red \"> Q2. </strong> In Q1, what can we do to improve the model? Compare the results with Q1?"
   ]
  },
  {
   "cell_type": "code",
   "execution_count": null,
   "metadata": {
    "vscode": {
     "languageId": "plaintext"
    }
   },
   "outputs": [],
   "source": []
  }
 ],
 "metadata": {
  "language_info": {
   "name": "python"
  }
 },
 "nbformat": 4,
 "nbformat_minor": 2
}
